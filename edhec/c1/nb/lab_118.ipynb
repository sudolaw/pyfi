{
 "cells": [
  {
   "cell_type": "markdown",
   "metadata": {},
   "source": [
    "# Limits of Diversification\n",
    "\n",
    "Why doesnt diversification help you in market crashes?\n",
    "\n",
    "One reason is that correlations across assets increases as the market drops. Let's see if we can see this in the data.\n",
    "\n",
    "Let's load up the industry data that we've used in the past."
   ]
  },
  {
   "cell_type": "code",
   "execution_count": 5,
   "metadata": {},
   "outputs": [
    {
     "name": "stdout",
     "output_type": "stream",
     "text": [
      "The autoreload extension is already loaded. To reload it, use:\n",
      "  %reload_ext autoreload\n"
     ]
    }
   ],
   "source": [
    "%load_ext autoreload\n",
    "%autoreload 2\n",
    "%matplotlib inline\n",
    "import edhec_risk_kit_118 as erk\n",
    "\n",
    "ind_return = erk.get_ind_returns()"
   ]
  },
  {
   "cell_type": "markdown",
   "metadata": {},
   "source": [
    "# Implementing a Cap-Weighted Portfolio\n",
    "\n",
    "Most market indices are constructed by taking a set of assets and weighting them by their market equity aka market capitalization.\n",
    "\n",
    "Let's construct a market cap weighted index from our 30 industry portfolios.\n",
    "\n",
    "For each of these industries, we also have data on the number of stocks in each industry as well as the average market cap in each industry. Thus, we can multiply the average market cap by the number of companies to get the total market capitalization of each industry. We can then weight each industry portfolio proportional to the market capitalization of that industry.\n",
    "\n",
    "Let's load the industry size and average number of firms:\n",
    "\n",
    "```python\n",
    "def get_ind_nfirms():\n",
    "    \"\"\"\n",
    "    Load and format the Ken French 30 Industry Portfolios Average number of Firms\n",
    "    \"\"\"\n",
    "    ind = pd.read_csv(\"data/ind30_m_nfirms.csv\", header=0, index_col=0)\n",
    "    ind.index = pd.to_datetime(ind.index, format=\"%Y%m\").to_period('M')\n",
    "    ind.columns = ind.columns.str.strip()\n",
    "    return ind\n",
    "\n",
    "def get_ind_size():\n",
    "    \"\"\"\n",
    "    Load and format the Ken French 30 Industry Portfolios Average size (market cap)\n",
    "    \"\"\"\n",
    "    ind = pd.read_csv(\"data/ind30_m_size.csv\", header=0, index_col=0)\n",
    "    ind.index = pd.to_datetime(ind.index, format=\"%Y%m\").to_period('M')\n",
    "    ind.columns = ind.columns.str.strip()\n",
    "    return ind\n",
    "```\n",
    "\n",
    "We can clearly refactor the code to be less repetitive, but for now, this will do fine:"
   ]
  },
  {
   "cell_type": "code",
   "execution_count": 6,
   "metadata": {},
   "outputs": [],
   "source": [
    "import pandas as pd\n",
    "\n",
    "def get_ind_nfirms():\n",
    "    \"\"\"\n",
    "    Load and format the Ken French 30 Industry Portfolios Average number of Firms\n",
    "    \"\"\"\n",
    "    ind = pd.read_csv(\"data/ind30_m_nfirms.csv\", header=0, index_col=0)\n",
    "    ind.index = pd.to_datetime(ind.index, format=\"%Y%m\").to_period('M')\n",
    "    ind.columns = ind.columns.str.strip()\n",
    "    return ind\n",
    "\n",
    "def get_ind_size():\n",
    "    \"\"\"\n",
    "    Load and format the Ken French 30 Industry Portfolios Average size (market cap)\n",
    "    \"\"\"\n",
    "    ind = pd.read_csv(\"data/ind30_m_size.csv\", header=0, index_col=0)\n",
    "    ind.index = pd.to_datetime(ind.index, format=\"%Y%m\").to_period('M')\n",
    "    ind.columns = ind.columns.str.strip()\n",
    "    return ind\n",
    "\n",
    "ind_nfirms = get_ind_nfirms()\n",
    "ind_size = get_ind_size()\n"
   ]
  },
  {
   "cell_type": "code",
   "execution_count": 7,
   "metadata": {},
   "outputs": [
    {
     "data": {
      "text/html": [
       "<div>\n",
       "<style scoped>\n",
       "    .dataframe tbody tr th:only-of-type {\n",
       "        vertical-align: middle;\n",
       "    }\n",
       "\n",
       "    .dataframe tbody tr th {\n",
       "        vertical-align: top;\n",
       "    }\n",
       "\n",
       "    .dataframe thead th {\n",
       "        text-align: right;\n",
       "    }\n",
       "</style>\n",
       "<table border=\"1\" class=\"dataframe\">\n",
       "  <thead>\n",
       "    <tr style=\"text-align: right;\">\n",
       "      <th></th>\n",
       "      <th>Food</th>\n",
       "      <th>Beer</th>\n",
       "      <th>Smoke</th>\n",
       "      <th>Games</th>\n",
       "      <th>Books</th>\n",
       "      <th>Hshld</th>\n",
       "      <th>Clths</th>\n",
       "      <th>Hlth</th>\n",
       "      <th>Chems</th>\n",
       "      <th>Txtls</th>\n",
       "      <th>...</th>\n",
       "      <th>Telcm</th>\n",
       "      <th>Servs</th>\n",
       "      <th>BusEq</th>\n",
       "      <th>Paper</th>\n",
       "      <th>Trans</th>\n",
       "      <th>Whlsl</th>\n",
       "      <th>Rtail</th>\n",
       "      <th>Meals</th>\n",
       "      <th>Fin</th>\n",
       "      <th>Other</th>\n",
       "    </tr>\n",
       "  </thead>\n",
       "  <tbody>\n",
       "    <tr>\n",
       "      <th>1926-07</th>\n",
       "      <td>43</td>\n",
       "      <td>3</td>\n",
       "      <td>16</td>\n",
       "      <td>7</td>\n",
       "      <td>2</td>\n",
       "      <td>8</td>\n",
       "      <td>12</td>\n",
       "      <td>7</td>\n",
       "      <td>17</td>\n",
       "      <td>13</td>\n",
       "      <td>...</td>\n",
       "      <td>5</td>\n",
       "      <td>3</td>\n",
       "      <td>7</td>\n",
       "      <td>6</td>\n",
       "      <td>74</td>\n",
       "      <td>2</td>\n",
       "      <td>33</td>\n",
       "      <td>6</td>\n",
       "      <td>12</td>\n",
       "      <td>4</td>\n",
       "    </tr>\n",
       "    <tr>\n",
       "      <th>1926-08</th>\n",
       "      <td>43</td>\n",
       "      <td>3</td>\n",
       "      <td>16</td>\n",
       "      <td>7</td>\n",
       "      <td>2</td>\n",
       "      <td>8</td>\n",
       "      <td>12</td>\n",
       "      <td>7</td>\n",
       "      <td>17</td>\n",
       "      <td>13</td>\n",
       "      <td>...</td>\n",
       "      <td>5</td>\n",
       "      <td>3</td>\n",
       "      <td>7</td>\n",
       "      <td>6</td>\n",
       "      <td>74</td>\n",
       "      <td>2</td>\n",
       "      <td>33</td>\n",
       "      <td>6</td>\n",
       "      <td>12</td>\n",
       "      <td>4</td>\n",
       "    </tr>\n",
       "    <tr>\n",
       "      <th>1926-09</th>\n",
       "      <td>43</td>\n",
       "      <td>3</td>\n",
       "      <td>16</td>\n",
       "      <td>7</td>\n",
       "      <td>2</td>\n",
       "      <td>8</td>\n",
       "      <td>12</td>\n",
       "      <td>7</td>\n",
       "      <td>17</td>\n",
       "      <td>13</td>\n",
       "      <td>...</td>\n",
       "      <td>5</td>\n",
       "      <td>3</td>\n",
       "      <td>7</td>\n",
       "      <td>6</td>\n",
       "      <td>74</td>\n",
       "      <td>2</td>\n",
       "      <td>33</td>\n",
       "      <td>6</td>\n",
       "      <td>12</td>\n",
       "      <td>4</td>\n",
       "    </tr>\n",
       "    <tr>\n",
       "      <th>1926-10</th>\n",
       "      <td>43</td>\n",
       "      <td>3</td>\n",
       "      <td>16</td>\n",
       "      <td>7</td>\n",
       "      <td>2</td>\n",
       "      <td>8</td>\n",
       "      <td>12</td>\n",
       "      <td>7</td>\n",
       "      <td>17</td>\n",
       "      <td>13</td>\n",
       "      <td>...</td>\n",
       "      <td>5</td>\n",
       "      <td>3</td>\n",
       "      <td>7</td>\n",
       "      <td>6</td>\n",
       "      <td>74</td>\n",
       "      <td>2</td>\n",
       "      <td>33</td>\n",
       "      <td>6</td>\n",
       "      <td>12</td>\n",
       "      <td>4</td>\n",
       "    </tr>\n",
       "    <tr>\n",
       "      <th>1926-11</th>\n",
       "      <td>43</td>\n",
       "      <td>3</td>\n",
       "      <td>16</td>\n",
       "      <td>7</td>\n",
       "      <td>2</td>\n",
       "      <td>8</td>\n",
       "      <td>12</td>\n",
       "      <td>7</td>\n",
       "      <td>17</td>\n",
       "      <td>13</td>\n",
       "      <td>...</td>\n",
       "      <td>5</td>\n",
       "      <td>3</td>\n",
       "      <td>7</td>\n",
       "      <td>6</td>\n",
       "      <td>74</td>\n",
       "      <td>2</td>\n",
       "      <td>33</td>\n",
       "      <td>6</td>\n",
       "      <td>12</td>\n",
       "      <td>4</td>\n",
       "    </tr>\n",
       "  </tbody>\n",
       "</table>\n",
       "<p>5 rows × 30 columns</p>\n",
       "</div>"
      ],
      "text/plain": [
       "         Food  Beer  Smoke  Games  Books  Hshld  Clths  Hlth  Chems  Txtls  \\\n",
       "1926-07    43     3     16      7      2      8     12     7     17     13   \n",
       "1926-08    43     3     16      7      2      8     12     7     17     13   \n",
       "1926-09    43     3     16      7      2      8     12     7     17     13   \n",
       "1926-10    43     3     16      7      2      8     12     7     17     13   \n",
       "1926-11    43     3     16      7      2      8     12     7     17     13   \n",
       "\n",
       "         ...  Telcm  Servs  BusEq  Paper  Trans  Whlsl  Rtail  Meals  Fin  \\\n",
       "1926-07  ...      5      3      7      6     74      2     33      6   12   \n",
       "1926-08  ...      5      3      7      6     74      2     33      6   12   \n",
       "1926-09  ...      5      3      7      6     74      2     33      6   12   \n",
       "1926-10  ...      5      3      7      6     74      2     33      6   12   \n",
       "1926-11  ...      5      3      7      6     74      2     33      6   12   \n",
       "\n",
       "         Other  \n",
       "1926-07      4  \n",
       "1926-08      4  \n",
       "1926-09      4  \n",
       "1926-10      4  \n",
       "1926-11      4  \n",
       "\n",
       "[5 rows x 30 columns]"
      ]
     },
     "execution_count": 7,
     "metadata": {},
     "output_type": "execute_result"
    }
   ],
   "source": [
    "ind_nfirms.head()"
   ]
  },
  {
   "cell_type": "code",
   "execution_count": 8,
   "metadata": {},
   "outputs": [
    {
     "data": {
      "text/html": [
       "<div>\n",
       "<style scoped>\n",
       "    .dataframe tbody tr th:only-of-type {\n",
       "        vertical-align: middle;\n",
       "    }\n",
       "\n",
       "    .dataframe tbody tr th {\n",
       "        vertical-align: top;\n",
       "    }\n",
       "\n",
       "    .dataframe thead th {\n",
       "        text-align: right;\n",
       "    }\n",
       "</style>\n",
       "<table border=\"1\" class=\"dataframe\">\n",
       "  <thead>\n",
       "    <tr style=\"text-align: right;\">\n",
       "      <th></th>\n",
       "      <th>Food</th>\n",
       "      <th>Beer</th>\n",
       "      <th>Smoke</th>\n",
       "      <th>Games</th>\n",
       "      <th>Books</th>\n",
       "      <th>Hshld</th>\n",
       "      <th>Clths</th>\n",
       "      <th>Hlth</th>\n",
       "      <th>Chems</th>\n",
       "      <th>Txtls</th>\n",
       "      <th>...</th>\n",
       "      <th>Telcm</th>\n",
       "      <th>Servs</th>\n",
       "      <th>BusEq</th>\n",
       "      <th>Paper</th>\n",
       "      <th>Trans</th>\n",
       "      <th>Whlsl</th>\n",
       "      <th>Rtail</th>\n",
       "      <th>Meals</th>\n",
       "      <th>Fin</th>\n",
       "      <th>Other</th>\n",
       "    </tr>\n",
       "  </thead>\n",
       "  <tbody>\n",
       "    <tr>\n",
       "      <th>1926-07</th>\n",
       "      <td>35.98</td>\n",
       "      <td>7.12</td>\n",
       "      <td>59.72</td>\n",
       "      <td>26.41</td>\n",
       "      <td>12.02</td>\n",
       "      <td>22.27</td>\n",
       "      <td>18.36</td>\n",
       "      <td>25.52</td>\n",
       "      <td>57.59</td>\n",
       "      <td>6.18</td>\n",
       "      <td>...</td>\n",
       "      <td>350.36</td>\n",
       "      <td>13.60</td>\n",
       "      <td>56.70</td>\n",
       "      <td>35.35</td>\n",
       "      <td>66.91</td>\n",
       "      <td>1.19</td>\n",
       "      <td>46.65</td>\n",
       "      <td>10.82</td>\n",
       "      <td>18.83</td>\n",
       "      <td>24.25</td>\n",
       "    </tr>\n",
       "    <tr>\n",
       "      <th>1926-08</th>\n",
       "      <td>36.10</td>\n",
       "      <td>6.75</td>\n",
       "      <td>60.47</td>\n",
       "      <td>27.17</td>\n",
       "      <td>13.33</td>\n",
       "      <td>22.13</td>\n",
       "      <td>19.83</td>\n",
       "      <td>25.80</td>\n",
       "      <td>62.13</td>\n",
       "      <td>6.20</td>\n",
       "      <td>...</td>\n",
       "      <td>353.27</td>\n",
       "      <td>14.75</td>\n",
       "      <td>57.74</td>\n",
       "      <td>37.86</td>\n",
       "      <td>67.99</td>\n",
       "      <td>0.90</td>\n",
       "      <td>46.57</td>\n",
       "      <td>11.00</td>\n",
       "      <td>18.88</td>\n",
       "      <td>25.51</td>\n",
       "    </tr>\n",
       "    <tr>\n",
       "      <th>1926-09</th>\n",
       "      <td>37.00</td>\n",
       "      <td>8.58</td>\n",
       "      <td>64.03</td>\n",
       "      <td>27.30</td>\n",
       "      <td>14.67</td>\n",
       "      <td>21.18</td>\n",
       "      <td>19.29</td>\n",
       "      <td>26.73</td>\n",
       "      <td>65.53</td>\n",
       "      <td>6.71</td>\n",
       "      <td>...</td>\n",
       "      <td>360.96</td>\n",
       "      <td>15.05</td>\n",
       "      <td>59.61</td>\n",
       "      <td>36.82</td>\n",
       "      <td>71.02</td>\n",
       "      <td>0.95</td>\n",
       "      <td>46.11</td>\n",
       "      <td>10.94</td>\n",
       "      <td>19.67</td>\n",
       "      <td>27.21</td>\n",
       "    </tr>\n",
       "    <tr>\n",
       "      <th>1926-10</th>\n",
       "      <td>37.14</td>\n",
       "      <td>8.92</td>\n",
       "      <td>64.42</td>\n",
       "      <td>28.76</td>\n",
       "      <td>14.42</td>\n",
       "      <td>21.23</td>\n",
       "      <td>19.03</td>\n",
       "      <td>26.87</td>\n",
       "      <td>68.47</td>\n",
       "      <td>6.82</td>\n",
       "      <td>...</td>\n",
       "      <td>364.16</td>\n",
       "      <td>15.30</td>\n",
       "      <td>59.52</td>\n",
       "      <td>34.77</td>\n",
       "      <td>70.83</td>\n",
       "      <td>0.88</td>\n",
       "      <td>46.15</td>\n",
       "      <td>10.80</td>\n",
       "      <td>19.36</td>\n",
       "      <td>26.16</td>\n",
       "    </tr>\n",
       "    <tr>\n",
       "      <th>1926-11</th>\n",
       "      <td>35.88</td>\n",
       "      <td>8.62</td>\n",
       "      <td>65.08</td>\n",
       "      <td>27.38</td>\n",
       "      <td>15.79</td>\n",
       "      <td>20.14</td>\n",
       "      <td>19.03</td>\n",
       "      <td>26.54</td>\n",
       "      <td>65.06</td>\n",
       "      <td>6.84</td>\n",
       "      <td>...</td>\n",
       "      <td>363.74</td>\n",
       "      <td>14.89</td>\n",
       "      <td>58.74</td>\n",
       "      <td>32.80</td>\n",
       "      <td>68.75</td>\n",
       "      <td>0.74</td>\n",
       "      <td>45.03</td>\n",
       "      <td>10.33</td>\n",
       "      <td>18.35</td>\n",
       "      <td>23.94</td>\n",
       "    </tr>\n",
       "  </tbody>\n",
       "</table>\n",
       "<p>5 rows × 30 columns</p>\n",
       "</div>"
      ],
      "text/plain": [
       "          Food  Beer  Smoke  Games  Books  Hshld  Clths   Hlth  Chems  Txtls  \\\n",
       "1926-07  35.98  7.12  59.72  26.41  12.02  22.27  18.36  25.52  57.59   6.18   \n",
       "1926-08  36.10  6.75  60.47  27.17  13.33  22.13  19.83  25.80  62.13   6.20   \n",
       "1926-09  37.00  8.58  64.03  27.30  14.67  21.18  19.29  26.73  65.53   6.71   \n",
       "1926-10  37.14  8.92  64.42  28.76  14.42  21.23  19.03  26.87  68.47   6.82   \n",
       "1926-11  35.88  8.62  65.08  27.38  15.79  20.14  19.03  26.54  65.06   6.84   \n",
       "\n",
       "         ...   Telcm  Servs  BusEq  Paper  Trans  Whlsl  Rtail  Meals    Fin  \\\n",
       "1926-07  ...  350.36  13.60  56.70  35.35  66.91   1.19  46.65  10.82  18.83   \n",
       "1926-08  ...  353.27  14.75  57.74  37.86  67.99   0.90  46.57  11.00  18.88   \n",
       "1926-09  ...  360.96  15.05  59.61  36.82  71.02   0.95  46.11  10.94  19.67   \n",
       "1926-10  ...  364.16  15.30  59.52  34.77  70.83   0.88  46.15  10.80  19.36   \n",
       "1926-11  ...  363.74  14.89  58.74  32.80  68.75   0.74  45.03  10.33  18.35   \n",
       "\n",
       "         Other  \n",
       "1926-07  24.25  \n",
       "1926-08  25.51  \n",
       "1926-09  27.21  \n",
       "1926-10  26.16  \n",
       "1926-11  23.94  \n",
       "\n",
       "[5 rows x 30 columns]"
      ]
     },
     "execution_count": 8,
     "metadata": {},
     "output_type": "execute_result"
    }
   ],
   "source": [
    "ind_size.head()"
   ]
  },
  {
   "cell_type": "code",
   "execution_count": 9,
   "metadata": {},
   "outputs": [
    {
     "data": {
      "text/plain": [
       "(1110, 30)"
      ]
     },
     "execution_count": 9,
     "metadata": {},
     "output_type": "execute_result"
    }
   ],
   "source": [
    "ind_return.shape"
   ]
  },
  {
   "cell_type": "code",
   "execution_count": 10,
   "metadata": {},
   "outputs": [
    {
     "data": {
      "text/plain": [
       "(1110, 30)"
      ]
     },
     "execution_count": 10,
     "metadata": {},
     "output_type": "execute_result"
    }
   ],
   "source": [
    "ind_size.shape"
   ]
  },
  {
   "cell_type": "code",
   "execution_count": 11,
   "metadata": {},
   "outputs": [
    {
     "data": {
      "text/plain": [
       "(1110, 30)"
      ]
     },
     "execution_count": 11,
     "metadata": {},
     "output_type": "execute_result"
    }
   ],
   "source": [
    "ind_nfirms.shape"
   ]
  },
  {
   "cell_type": "code",
   "execution_count": 12,
   "metadata": {},
   "outputs": [],
   "source": [
    "ind_mktcap = ind_nfirms * ind_size"
   ]
  },
  {
   "cell_type": "code",
   "execution_count": 13,
   "metadata": {},
   "outputs": [
    {
     "data": {
      "text/plain": [
       "(1110, 30)"
      ]
     },
     "execution_count": 13,
     "metadata": {},
     "output_type": "execute_result"
    }
   ],
   "source": [
    "ind_mktcap.shape"
   ]
  },
  {
   "cell_type": "markdown",
   "metadata": {},
   "source": [
    "Now that we have the market caps for each month, we can compute the total market capitalization over time by summing over all industries:"
   ]
  },
  {
   "cell_type": "code",
   "execution_count": 14,
   "metadata": {},
   "outputs": [],
   "source": [
    "total_mktcap = ind_mktcap.sum(axis=1)"
   ]
  },
  {
   "cell_type": "code",
   "execution_count": 15,
   "metadata": {},
   "outputs": [
    {
     "data": {
      "text/plain": [
       "<AxesSubplot:>"
      ]
     },
     "execution_count": 15,
     "metadata": {},
     "output_type": "execute_result"
    },
    {
     "data": {
      "image/png": "[encoded data removed]",
      "text/plain": [
       "<Figure size 432x288 with 1 Axes>"
      ]
     },
     "metadata": {
      "needs_background": "light"
     },
     "output_type": "display_data"
    }
   ],
   "source": [
    "total_mktcap.plot()"
   ]
  },
  {
   "cell_type": "markdown",
   "metadata": {},
   "source": [
    "Clearly, the market has grown over time. We can now compute the capweight of each industry as follows:"
   ]
  },
  {
   "cell_type": "code",
   "execution_count": 16,
   "metadata": {},
   "outputs": [],
   "source": [
    "ind_capweight = ind_mktcap.divide(total_mktcap, axis=\"rows\")"
   ]
  },
  {
   "cell_type": "markdown",
   "metadata": {},
   "source": [
    "Let's verify that the sum of the cap weights of all the columns should always sum to 1.\n",
    "\n",
    "Because these are floating point numbers, it is not a good idea to test if they sum to 1 by using `== 1.0`. Instead, we make sure they are very close to 1 as follows"
   ]
  },
  {
   "cell_type": "code",
   "execution_count": 17,
   "metadata": {},
   "outputs": [
    {
     "data": {
      "text/plain": [
       "True"
      ]
     },
     "execution_count": 17,
     "metadata": {},
     "output_type": "execute_result"
    }
   ],
   "source": [
    "all(abs(ind_capweight.sum(axis=\"columns\") - 1) < 1E-10)"
   ]
  },
  {
   "cell_type": "markdown",
   "metadata": {},
   "source": [
    "Let's look at the fraction of the market occupied by the Steel industry over time and compare it with the Finance industry."
   ]
  },
  {
   "cell_type": "code",
   "execution_count": 18,
   "metadata": {},
   "outputs": [
    {
     "data": {
      "text/plain": [
       "<AxesSubplot:>"
      ]
     },
     "execution_count": 18,
     "metadata": {},
     "output_type": "execute_result"
    },
    {
     "data": {
      "image/png": "[encoded data removed]",
      "text/plain": [
       "<Figure size 432x288 with 1 Axes>"
      ]
     },
     "metadata": {
      "needs_background": "light"
     },
     "output_type": "display_data"
    }
   ],
   "source": [
    "ind_capweight[[\"Steel\", \"Fin\"]].plot()"
   ]
  },
  {
   "cell_type": "markdown",
   "metadata": {},
   "source": [
    "# Constructing a Cap Weighted Market Index\n",
    "\n",
    "One way to construct a market index is to build a portfolio whose weights are rebalanced back to the target weights every period. In reality, the weights may drift over time but this simplification is close enough."
   ]
  },
  {
   "cell_type": "code",
   "execution_count": 19,
   "metadata": {},
   "outputs": [
    {
     "data": {
      "text/plain": [
       "<AxesSubplot:title={'center':'Total Market Cap Weighted Index 1926-2018'}>"
      ]
     },
     "execution_count": 19,
     "metadata": {},
     "output_type": "execute_result"
    },
    {
     "data": {
      "image/png": "[encoded data removed]",
      "text/plain": [
       "<Figure size 432x288 with 1 Axes>"
      ]
     },
     "metadata": {
      "needs_background": "light"
     },
     "output_type": "display_data"
    }
   ],
   "source": [
    "total_market_return = (ind_capweight * ind_return).sum(axis=\"columns\")\n",
    "total_market_index = erk.drawdown(total_market_return).Wealth\n",
    "total_market_index.plot(title=\"Total Market Cap Weighted Index 1926-2018\")"
   ]
  },
  {
   "cell_type": "markdown",
   "metadata": {},
   "source": [
    "Putting it all together we have:\n",
    "\n",
    "```python\n",
    "def get_total_market_index_returns():\n",
    "    \"\"\"\n",
    "    Load the 30 industry portfolio data and derive the returns of a capweighted total market index\n",
    "    \"\"\"\n",
    "    ind_nfirms = get_ind_nfirms()\n",
    "    ind_size = get_ind_size()\n",
    "    ind_return = get_ind_returns()\n",
    "    ind_mktcap = ind_nfirms * ind_size\n",
    "    total_mktcap = ind_mktcap.sum(axis=1)\n",
    "    ind_capweight = ind_mktcap.divide(total_mktcap, axis=\"rows\")\n",
    "    total_market_return = (ind_capweight * ind_return).sum(axis=\"columns\")\n",
    "    return total_market_return\n",
    "```\n"
   ]
  },
  {
   "cell_type": "code",
   "execution_count": 20,
   "metadata": {},
   "outputs": [
    {
     "data": {
      "text/plain": [
       "<AxesSubplot:title={'center':'Total Market Cap Weighted Index 1926-2018'}>"
      ]
     },
     "execution_count": 20,
     "metadata": {},
     "output_type": "execute_result"
    },
    {
     "data": {
      "image/png": "[encoded data removed]",
      "text/plain": [
       "<Figure size 432x288 with 1 Axes>"
      ]
     },
     "metadata": {
      "needs_background": "light"
     },
     "output_type": "display_data"
    }
   ],
   "source": [
    "total_market_return = erk.get_total_market_index_returns()\n",
    "total_market_index = erk.drawdown(total_market_return).Wealth\n",
    "total_market_index.plot(title=\"Total Market Cap Weighted Index 1926-2018\")"
   ]
  },
  {
   "cell_type": "markdown",
   "metadata": {},
   "source": [
    "# Rolling Windows\n",
    "\n",
    "Let's construct a rolling window of returns over a trailing 36 month period. Pandas contains direct support for rolling windows, and allows you to aggregate the returns over a window. In our case, lets compute the average return over a trailing 36 month window."
   ]
  },
  {
   "cell_type": "code",
   "execution_count": 21,
   "metadata": {},
   "outputs": [
    {
     "data": {
      "text/plain": [
       "<AxesSubplot:>"
      ]
     },
     "execution_count": 21,
     "metadata": {},
     "output_type": "execute_result"
    },
    {
     "data": {
      "image/png": "[encoded data removed]",
      "text/plain": [
       "<Figure size 864x432 with 1 Axes>"
      ]
     },
     "metadata": {
      "needs_background": "light"
     },
     "output_type": "display_data"
    }
   ],
   "source": [
    "total_market_index[\"1980\":].plot(figsize=(12, 6))\n",
    "total_market_index[\"1980\":].rolling(window=36).mean().plot()"
   ]
  },
  {
   "cell_type": "markdown",
   "metadata": {},
   "source": [
    "We dont really want the mean return, we want to look at the trailing 3 year compounded return. We need to apply our own function, instead of `mean()`.\n",
    "\n",
    "Each time the window is advanced, a new DataFrame (with just the slice of the DataFrame in the window) is used to generate a new value. You can either use one of the built-in DataFrame methods like `.mean` or you can use the `.aggregate` method to apply your own function to each column for all the rows that fall in that window.\n",
    "\n",
    "Let's create a time series of the annualized returns over the trailing 36 months and the average correlation across stocks over that same 36 months."
   ]
  },
  {
   "cell_type": "code",
   "execution_count": 22,
   "metadata": {},
   "outputs": [
    {
     "data": {
      "text/plain": [
       "<AxesSubplot:>"
      ]
     },
     "execution_count": 22,
     "metadata": {},
     "output_type": "execute_result"
    },
    {
     "data": {
      "image/png": "[encoded data removed]",
      "text/plain": [
       "<Figure size 864x360 with 1 Axes>"
      ]
     },
     "metadata": {
      "needs_background": "light"
     },
     "output_type": "display_data"
    }
   ],
   "source": [
    "tmi_tr36rets = total_market_return.rolling(window=36).aggregate(erk.annualize_rets, periods_per_year=12)\n",
    "tmi_tr36rets.plot(figsize=(12,5), label=\"Tr 36 mo Returns\", legend=True)\n",
    "total_market_return.plot(label=\"Returns\", legend=True)"
   ]
  },
  {
   "cell_type": "markdown",
   "metadata": {},
   "source": [
    "# Rolling Correlations: Multi Indexes and `.groupby`\n",
    "\n",
    "Next we want to look at average correlations between all the industries over that same trailing 3 year window.\n",
    "\n",
    "Let's start by contructing the time series of correlations over time over a 36 month window."
   ]
  },
  {
   "cell_type": "code",
   "execution_count": 23,
   "metadata": {},
   "outputs": [
    {
     "data": {
      "text/html": [
       "<div>\n",
       "<style scoped>\n",
       "    .dataframe tbody tr th:only-of-type {\n",
       "        vertical-align: middle;\n",
       "    }\n",
       "\n",
       "    .dataframe tbody tr th {\n",
       "        vertical-align: top;\n",
       "    }\n",
       "\n",
       "    .dataframe thead th {\n",
       "        text-align: right;\n",
       "    }\n",
       "</style>\n",
       "<table border=\"1\" class=\"dataframe\">\n",
       "  <thead>\n",
       "    <tr style=\"text-align: right;\">\n",
       "      <th></th>\n",
       "      <th></th>\n",
       "      <th>Food</th>\n",
       "      <th>Beer</th>\n",
       "      <th>Smoke</th>\n",
       "      <th>Games</th>\n",
       "      <th>Books</th>\n",
       "      <th>Hshld</th>\n",
       "      <th>Clths</th>\n",
       "      <th>Hlth</th>\n",
       "      <th>Chems</th>\n",
       "      <th>Txtls</th>\n",
       "      <th>...</th>\n",
       "      <th>Telcm</th>\n",
       "      <th>Servs</th>\n",
       "      <th>BusEq</th>\n",
       "      <th>Paper</th>\n",
       "      <th>Trans</th>\n",
       "      <th>Whlsl</th>\n",
       "      <th>Rtail</th>\n",
       "      <th>Meals</th>\n",
       "      <th>Fin</th>\n",
       "      <th>Other</th>\n",
       "    </tr>\n",
       "  </thead>\n",
       "  <tbody>\n",
       "    <tr>\n",
       "      <th rowspan=\"5\" valign=\"top\">2018-12</th>\n",
       "      <th>Whlsl</th>\n",
       "      <td>0.474948</td>\n",
       "      <td>0.356983</td>\n",
       "      <td>0.122672</td>\n",
       "      <td>0.510425</td>\n",
       "      <td>0.803362</td>\n",
       "      <td>0.419280</td>\n",
       "      <td>0.570071</td>\n",
       "      <td>0.739764</td>\n",
       "      <td>0.785796</td>\n",
       "      <td>0.634197</td>\n",
       "      <td>...</td>\n",
       "      <td>0.648092</td>\n",
       "      <td>0.567395</td>\n",
       "      <td>0.543362</td>\n",
       "      <td>0.764252</td>\n",
       "      <td>0.829185</td>\n",
       "      <td>1.000000</td>\n",
       "      <td>0.744842</td>\n",
       "      <td>0.643879</td>\n",
       "      <td>0.746480</td>\n",
       "      <td>0.767652</td>\n",
       "    </tr>\n",
       "    <tr>\n",
       "      <th>Rtail</th>\n",
       "      <td>0.517856</td>\n",
       "      <td>0.406107</td>\n",
       "      <td>0.030283</td>\n",
       "      <td>0.676464</td>\n",
       "      <td>0.636320</td>\n",
       "      <td>0.358336</td>\n",
       "      <td>0.676598</td>\n",
       "      <td>0.714933</td>\n",
       "      <td>0.626034</td>\n",
       "      <td>0.634202</td>\n",
       "      <td>...</td>\n",
       "      <td>0.562238</td>\n",
       "      <td>0.762616</td>\n",
       "      <td>0.628246</td>\n",
       "      <td>0.656510</td>\n",
       "      <td>0.630615</td>\n",
       "      <td>0.744842</td>\n",
       "      <td>1.000000</td>\n",
       "      <td>0.616947</td>\n",
       "      <td>0.611883</td>\n",
       "      <td>0.619918</td>\n",
       "    </tr>\n",
       "    <tr>\n",
       "      <th>Meals</th>\n",
       "      <td>0.370187</td>\n",
       "      <td>0.385483</td>\n",
       "      <td>0.122007</td>\n",
       "      <td>0.301516</td>\n",
       "      <td>0.520649</td>\n",
       "      <td>0.308216</td>\n",
       "      <td>0.302176</td>\n",
       "      <td>0.416193</td>\n",
       "      <td>0.520023</td>\n",
       "      <td>0.491726</td>\n",
       "      <td>...</td>\n",
       "      <td>0.406184</td>\n",
       "      <td>0.444629</td>\n",
       "      <td>0.399438</td>\n",
       "      <td>0.627113</td>\n",
       "      <td>0.663358</td>\n",
       "      <td>0.643879</td>\n",
       "      <td>0.616947</td>\n",
       "      <td>1.000000</td>\n",
       "      <td>0.502563</td>\n",
       "      <td>0.605226</td>\n",
       "    </tr>\n",
       "    <tr>\n",
       "      <th>Fin</th>\n",
       "      <td>0.298823</td>\n",
       "      <td>0.192706</td>\n",
       "      <td>0.027593</td>\n",
       "      <td>0.480276</td>\n",
       "      <td>0.694812</td>\n",
       "      <td>0.162690</td>\n",
       "      <td>0.425899</td>\n",
       "      <td>0.658468</td>\n",
       "      <td>0.760151</td>\n",
       "      <td>0.577090</td>\n",
       "      <td>...</td>\n",
       "      <td>0.420863</td>\n",
       "      <td>0.585418</td>\n",
       "      <td>0.517947</td>\n",
       "      <td>0.670936</td>\n",
       "      <td>0.760730</td>\n",
       "      <td>0.746480</td>\n",
       "      <td>0.611883</td>\n",
       "      <td>0.502563</td>\n",
       "      <td>1.000000</td>\n",
       "      <td>0.734837</td>\n",
       "    </tr>\n",
       "    <tr>\n",
       "      <th>Other</th>\n",
       "      <td>0.436952</td>\n",
       "      <td>0.376565</td>\n",
       "      <td>0.224010</td>\n",
       "      <td>0.331829</td>\n",
       "      <td>0.558072</td>\n",
       "      <td>0.390610</td>\n",
       "      <td>0.467099</td>\n",
       "      <td>0.645035</td>\n",
       "      <td>0.712511</td>\n",
       "      <td>0.520953</td>\n",
       "      <td>...</td>\n",
       "      <td>0.607868</td>\n",
       "      <td>0.460322</td>\n",
       "      <td>0.434487</td>\n",
       "      <td>0.773798</td>\n",
       "      <td>0.756961</td>\n",
       "      <td>0.767652</td>\n",
       "      <td>0.619918</td>\n",
       "      <td>0.605226</td>\n",
       "      <td>0.734837</td>\n",
       "      <td>1.000000</td>\n",
       "    </tr>\n",
       "  </tbody>\n",
       "</table>\n",
       "<p>5 rows × 30 columns</p>\n",
       "</div>"
      ],
      "text/plain": [
       "                   Food      Beer     Smoke     Games     Books     Hshld  \\\n",
       "2018-12 Whlsl  0.474948  0.356983  0.122672  0.510425  0.803362  0.419280   \n",
       "        Rtail  0.517856  0.406107  0.030283  0.676464  0.636320  0.358336   \n",
       "        Meals  0.370187  0.385483  0.122007  0.301516  0.520649  0.308216   \n",
       "        Fin    0.298823  0.192706  0.027593  0.480276  0.694812  0.162690   \n",
       "        Other  0.436952  0.376565  0.224010  0.331829  0.558072  0.390610   \n",
       "\n",
       "                  Clths      Hlth     Chems     Txtls  ...     Telcm  \\\n",
       "2018-12 Whlsl  0.570071  0.739764  0.785796  0.634197  ...  0.648092   \n",
       "        Rtail  0.676598  0.714933  0.626034  0.634202  ...  0.562238   \n",
       "        Meals  0.302176  0.416193  0.520023  0.491726  ...  0.406184   \n",
       "        Fin    0.425899  0.658468  0.760151  0.577090  ...  0.420863   \n",
       "        Other  0.467099  0.645035  0.712511  0.520953  ...  0.607868   \n",
       "\n",
       "                  Servs     BusEq     Paper     Trans     Whlsl     Rtail  \\\n",
       "2018-12 Whlsl  0.567395  0.543362  0.764252  0.829185  1.000000  0.744842   \n",
       "        Rtail  0.762616  0.628246  0.656510  0.630615  0.744842  1.000000   \n",
       "        Meals  0.444629  0.399438  0.627113  0.663358  0.643879  0.616947   \n",
       "        Fin    0.585418  0.517947  0.670936  0.760730  0.746480  0.611883   \n",
       "        Other  0.460322  0.434487  0.773798  0.756961  0.767652  0.619918   \n",
       "\n",
       "                  Meals       Fin     Other  \n",
       "2018-12 Whlsl  0.643879  0.746480  0.767652  \n",
       "        Rtail  0.616947  0.611883  0.619918  \n",
       "        Meals  1.000000  0.502563  0.605226  \n",
       "        Fin    0.502563  1.000000  0.734837  \n",
       "        Other  0.605226  0.734837  1.000000  \n",
       "\n",
       "[5 rows x 30 columns]"
      ]
     },
     "execution_count": 23,
     "metadata": {},
     "output_type": "execute_result"
    }
   ],
   "source": [
    "ts_corr = ind_return.rolling(window=36).corr()\n",
    "ts_corr.tail()"
   ]
  },
  {
   "cell_type": "code",
   "execution_count": 28,
   "metadata": {},
   "outputs": [
    {
     "data": {
      "text/html": [
       "<div>\n",
       "<style scoped>\n",
       "    .dataframe tbody tr th:only-of-type {\n",
       "        vertical-align: middle;\n",
       "    }\n",
       "\n",
       "    .dataframe tbody tr th {\n",
       "        vertical-align: top;\n",
       "    }\n",
       "\n",
       "    .dataframe thead th {\n",
       "        text-align: right;\n",
       "    }\n",
       "</style>\n",
       "<table border=\"1\" class=\"dataframe\">\n",
       "  <thead>\n",
       "    <tr style=\"text-align: right;\">\n",
       "      <th></th>\n",
       "      <th>Food</th>\n",
       "      <th>Beer</th>\n",
       "      <th>Smoke</th>\n",
       "      <th>Games</th>\n",
       "      <th>Books</th>\n",
       "      <th>Hshld</th>\n",
       "      <th>Clths</th>\n",
       "      <th>Hlth</th>\n",
       "      <th>Chems</th>\n",
       "      <th>Txtls</th>\n",
       "      <th>...</th>\n",
       "      <th>Telcm</th>\n",
       "      <th>Servs</th>\n",
       "      <th>BusEq</th>\n",
       "      <th>Paper</th>\n",
       "      <th>Trans</th>\n",
       "      <th>Whlsl</th>\n",
       "      <th>Rtail</th>\n",
       "      <th>Meals</th>\n",
       "      <th>Fin</th>\n",
       "      <th>Other</th>\n",
       "    </tr>\n",
       "  </thead>\n",
       "  <tbody>\n",
       "    <tr>\n",
       "      <th>1926-07</th>\n",
       "      <td>0.0056</td>\n",
       "      <td>-0.0519</td>\n",
       "      <td>0.0129</td>\n",
       "      <td>0.0293</td>\n",
       "      <td>0.1097</td>\n",
       "      <td>-0.0048</td>\n",
       "      <td>0.0808</td>\n",
       "      <td>0.0177</td>\n",
       "      <td>0.0814</td>\n",
       "      <td>0.0039</td>\n",
       "      <td>...</td>\n",
       "      <td>0.0083</td>\n",
       "      <td>0.0922</td>\n",
       "      <td>0.0206</td>\n",
       "      <td>0.0770</td>\n",
       "      <td>0.0193</td>\n",
       "      <td>-0.2379</td>\n",
       "      <td>0.0007</td>\n",
       "      <td>0.0187</td>\n",
       "      <td>0.0037</td>\n",
       "      <td>0.0520</td>\n",
       "    </tr>\n",
       "    <tr>\n",
       "      <th>1926-08</th>\n",
       "      <td>0.0259</td>\n",
       "      <td>0.2703</td>\n",
       "      <td>0.0650</td>\n",
       "      <td>0.0055</td>\n",
       "      <td>0.1001</td>\n",
       "      <td>-0.0358</td>\n",
       "      <td>-0.0251</td>\n",
       "      <td>0.0425</td>\n",
       "      <td>0.0550</td>\n",
       "      <td>0.0814</td>\n",
       "      <td>...</td>\n",
       "      <td>0.0217</td>\n",
       "      <td>0.0202</td>\n",
       "      <td>0.0439</td>\n",
       "      <td>-0.0238</td>\n",
       "      <td>0.0488</td>\n",
       "      <td>0.0539</td>\n",
       "      <td>-0.0075</td>\n",
       "      <td>-0.0013</td>\n",
       "      <td>0.0446</td>\n",
       "      <td>0.0676</td>\n",
       "    </tr>\n",
       "    <tr>\n",
       "      <th>1926-09</th>\n",
       "      <td>0.0116</td>\n",
       "      <td>0.0402</td>\n",
       "      <td>0.0126</td>\n",
       "      <td>0.0658</td>\n",
       "      <td>-0.0099</td>\n",
       "      <td>0.0073</td>\n",
       "      <td>-0.0051</td>\n",
       "      <td>0.0069</td>\n",
       "      <td>0.0533</td>\n",
       "      <td>0.0231</td>\n",
       "      <td>...</td>\n",
       "      <td>0.0241</td>\n",
       "      <td>0.0225</td>\n",
       "      <td>0.0019</td>\n",
       "      <td>-0.0554</td>\n",
       "      <td>0.0005</td>\n",
       "      <td>-0.0787</td>\n",
       "      <td>0.0025</td>\n",
       "      <td>-0.0056</td>\n",
       "      <td>-0.0123</td>\n",
       "      <td>-0.0386</td>\n",
       "    </tr>\n",
       "    <tr>\n",
       "      <th>1926-10</th>\n",
       "      <td>-0.0306</td>\n",
       "      <td>-0.0331</td>\n",
       "      <td>0.0106</td>\n",
       "      <td>-0.0476</td>\n",
       "      <td>0.0947</td>\n",
       "      <td>-0.0468</td>\n",
       "      <td>0.0012</td>\n",
       "      <td>-0.0057</td>\n",
       "      <td>-0.0476</td>\n",
       "      <td>0.0100</td>\n",
       "      <td>...</td>\n",
       "      <td>-0.0011</td>\n",
       "      <td>-0.0200</td>\n",
       "      <td>-0.0109</td>\n",
       "      <td>-0.0508</td>\n",
       "      <td>-0.0264</td>\n",
       "      <td>-0.1538</td>\n",
       "      <td>-0.0220</td>\n",
       "      <td>-0.0411</td>\n",
       "      <td>-0.0516</td>\n",
       "      <td>-0.0849</td>\n",
       "    </tr>\n",
       "    <tr>\n",
       "      <th>1926-11</th>\n",
       "      <td>0.0635</td>\n",
       "      <td>0.0729</td>\n",
       "      <td>0.0455</td>\n",
       "      <td>0.0166</td>\n",
       "      <td>-0.0580</td>\n",
       "      <td>-0.0054</td>\n",
       "      <td>0.0187</td>\n",
       "      <td>0.0542</td>\n",
       "      <td>0.0520</td>\n",
       "      <td>0.0311</td>\n",
       "      <td>...</td>\n",
       "      <td>0.0163</td>\n",
       "      <td>0.0377</td>\n",
       "      <td>0.0364</td>\n",
       "      <td>0.0384</td>\n",
       "      <td>0.0160</td>\n",
       "      <td>0.0467</td>\n",
       "      <td>0.0652</td>\n",
       "      <td>0.0433</td>\n",
       "      <td>0.0224</td>\n",
       "      <td>0.0400</td>\n",
       "    </tr>\n",
       "  </tbody>\n",
       "</table>\n",
       "<p>5 rows × 30 columns</p>\n",
       "</div>"
      ],
      "text/plain": [
       "           Food    Beer   Smoke   Games   Books   Hshld   Clths    Hlth  \\\n",
       "1926-07  0.0056 -0.0519  0.0129  0.0293  0.1097 -0.0048  0.0808  0.0177   \n",
       "1926-08  0.0259  0.2703  0.0650  0.0055  0.1001 -0.0358 -0.0251  0.0425   \n",
       "1926-09  0.0116  0.0402  0.0126  0.0658 -0.0099  0.0073 -0.0051  0.0069   \n",
       "1926-10 -0.0306 -0.0331  0.0106 -0.0476  0.0947 -0.0468  0.0012 -0.0057   \n",
       "1926-11  0.0635  0.0729  0.0455  0.0166 -0.0580 -0.0054  0.0187  0.0542   \n",
       "\n",
       "          Chems   Txtls  ...   Telcm   Servs   BusEq   Paper   Trans   Whlsl  \\\n",
       "1926-07  0.0814  0.0039  ...  0.0083  0.0922  0.0206  0.0770  0.0193 -0.2379   \n",
       "1926-08  0.0550  0.0814  ...  0.0217  0.0202  0.0439 -0.0238  0.0488  0.0539   \n",
       "1926-09  0.0533  0.0231  ...  0.0241  0.0225  0.0019 -0.0554  0.0005 -0.0787   \n",
       "1926-10 -0.0476  0.0100  ... -0.0011 -0.0200 -0.0109 -0.0508 -0.0264 -0.1538   \n",
       "1926-11  0.0520  0.0311  ...  0.0163  0.0377  0.0364  0.0384  0.0160  0.0467   \n",
       "\n",
       "          Rtail   Meals     Fin   Other  \n",
       "1926-07  0.0007  0.0187  0.0037  0.0520  \n",
       "1926-08 -0.0075 -0.0013  0.0446  0.0676  \n",
       "1926-09  0.0025 -0.0056 -0.0123 -0.0386  \n",
       "1926-10 -0.0220 -0.0411 -0.0516 -0.0849  \n",
       "1926-11  0.0652  0.0433  0.0224  0.0400  \n",
       "\n",
       "[5 rows x 30 columns]"
      ]
     },
     "execution_count": 28,
     "metadata": {},
     "output_type": "execute_result"
    }
   ],
   "source": [
    "ind_return.head()"
   ]
  },
  {
   "cell_type": "markdown",
   "metadata": {},
   "source": [
    "What is created is a DataFrame with a MultiLevel Index. The first level is the date and the second level is industry name. We can make this easier to see if we give names to the levels of the index:"
   ]
  },
  {
   "cell_type": "code",
   "execution_count": 24,
   "metadata": {},
   "outputs": [
    {
     "data": {
      "text/html": [
       "<div>\n",
       "<style scoped>\n",
       "    .dataframe tbody tr th:only-of-type {\n",
       "        vertical-align: middle;\n",
       "    }\n",
       "\n",
       "    .dataframe tbody tr th {\n",
       "        vertical-align: top;\n",
       "    }\n",
       "\n",
       "    .dataframe thead th {\n",
       "        text-align: right;\n",
       "    }\n",
       "</style>\n",
       "<table border=\"1\" class=\"dataframe\">\n",
       "  <thead>\n",
       "    <tr style=\"text-align: right;\">\n",
       "      <th></th>\n",
       "      <th></th>\n",
       "      <th>Food</th>\n",
       "      <th>Beer</th>\n",
       "      <th>Smoke</th>\n",
       "      <th>Games</th>\n",
       "      <th>Books</th>\n",
       "      <th>Hshld</th>\n",
       "      <th>Clths</th>\n",
       "      <th>Hlth</th>\n",
       "      <th>Chems</th>\n",
       "      <th>Txtls</th>\n",
       "      <th>...</th>\n",
       "      <th>Telcm</th>\n",
       "      <th>Servs</th>\n",
       "      <th>BusEq</th>\n",
       "      <th>Paper</th>\n",
       "      <th>Trans</th>\n",
       "      <th>Whlsl</th>\n",
       "      <th>Rtail</th>\n",
       "      <th>Meals</th>\n",
       "      <th>Fin</th>\n",
       "      <th>Other</th>\n",
       "    </tr>\n",
       "    <tr>\n",
       "      <th>date</th>\n",
       "      <th>industry</th>\n",
       "      <th></th>\n",
       "      <th></th>\n",
       "      <th></th>\n",
       "      <th></th>\n",
       "      <th></th>\n",
       "      <th></th>\n",
       "      <th></th>\n",
       "      <th></th>\n",
       "      <th></th>\n",
       "      <th></th>\n",
       "      <th></th>\n",
       "      <th></th>\n",
       "      <th></th>\n",
       "      <th></th>\n",
       "      <th></th>\n",
       "      <th></th>\n",
       "      <th></th>\n",
       "      <th></th>\n",
       "      <th></th>\n",
       "      <th></th>\n",
       "      <th></th>\n",
       "    </tr>\n",
       "  </thead>\n",
       "  <tbody>\n",
       "    <tr>\n",
       "      <th rowspan=\"5\" valign=\"top\">2018-12</th>\n",
       "      <th>Whlsl</th>\n",
       "      <td>0.474948</td>\n",
       "      <td>0.356983</td>\n",
       "      <td>0.122672</td>\n",
       "      <td>0.510425</td>\n",
       "      <td>0.803362</td>\n",
       "      <td>0.419280</td>\n",
       "      <td>0.570071</td>\n",
       "      <td>0.739764</td>\n",
       "      <td>0.785796</td>\n",
       "      <td>0.634197</td>\n",
       "      <td>...</td>\n",
       "      <td>0.648092</td>\n",
       "      <td>0.567395</td>\n",
       "      <td>0.543362</td>\n",
       "      <td>0.764252</td>\n",
       "      <td>0.829185</td>\n",
       "      <td>1.000000</td>\n",
       "      <td>0.744842</td>\n",
       "      <td>0.643879</td>\n",
       "      <td>0.746480</td>\n",
       "      <td>0.767652</td>\n",
       "    </tr>\n",
       "    <tr>\n",
       "      <th>Rtail</th>\n",
       "      <td>0.517856</td>\n",
       "      <td>0.406107</td>\n",
       "      <td>0.030283</td>\n",
       "      <td>0.676464</td>\n",
       "      <td>0.636320</td>\n",
       "      <td>0.358336</td>\n",
       "      <td>0.676598</td>\n",
       "      <td>0.714933</td>\n",
       "      <td>0.626034</td>\n",
       "      <td>0.634202</td>\n",
       "      <td>...</td>\n",
       "      <td>0.562238</td>\n",
       "      <td>0.762616</td>\n",
       "      <td>0.628246</td>\n",
       "      <td>0.656510</td>\n",
       "      <td>0.630615</td>\n",
       "      <td>0.744842</td>\n",
       "      <td>1.000000</td>\n",
       "      <td>0.616947</td>\n",
       "      <td>0.611883</td>\n",
       "      <td>0.619918</td>\n",
       "    </tr>\n",
       "    <tr>\n",
       "      <th>Meals</th>\n",
       "      <td>0.370187</td>\n",
       "      <td>0.385483</td>\n",
       "      <td>0.122007</td>\n",
       "      <td>0.301516</td>\n",
       "      <td>0.520649</td>\n",
       "      <td>0.308216</td>\n",
       "      <td>0.302176</td>\n",
       "      <td>0.416193</td>\n",
       "      <td>0.520023</td>\n",
       "      <td>0.491726</td>\n",
       "      <td>...</td>\n",
       "      <td>0.406184</td>\n",
       "      <td>0.444629</td>\n",
       "      <td>0.399438</td>\n",
       "      <td>0.627113</td>\n",
       "      <td>0.663358</td>\n",
       "      <td>0.643879</td>\n",
       "      <td>0.616947</td>\n",
       "      <td>1.000000</td>\n",
       "      <td>0.502563</td>\n",
       "      <td>0.605226</td>\n",
       "    </tr>\n",
       "    <tr>\n",
       "      <th>Fin</th>\n",
       "      <td>0.298823</td>\n",
       "      <td>0.192706</td>\n",
       "      <td>0.027593</td>\n",
       "      <td>0.480276</td>\n",
       "      <td>0.694812</td>\n",
       "      <td>0.162690</td>\n",
       "      <td>0.425899</td>\n",
       "      <td>0.658468</td>\n",
       "      <td>0.760151</td>\n",
       "      <td>0.577090</td>\n",
       "      <td>...</td>\n",
       "      <td>0.420863</td>\n",
       "      <td>0.585418</td>\n",
       "      <td>0.517947</td>\n",
       "      <td>0.670936</td>\n",
       "      <td>0.760730</td>\n",
       "      <td>0.746480</td>\n",
       "      <td>0.611883</td>\n",
       "      <td>0.502563</td>\n",
       "      <td>1.000000</td>\n",
       "      <td>0.734837</td>\n",
       "    </tr>\n",
       "    <tr>\n",
       "      <th>Other</th>\n",
       "      <td>0.436952</td>\n",
       "      <td>0.376565</td>\n",
       "      <td>0.224010</td>\n",
       "      <td>0.331829</td>\n",
       "      <td>0.558072</td>\n",
       "      <td>0.390610</td>\n",
       "      <td>0.467099</td>\n",
       "      <td>0.645035</td>\n",
       "      <td>0.712511</td>\n",
       "      <td>0.520953</td>\n",
       "      <td>...</td>\n",
       "      <td>0.607868</td>\n",
       "      <td>0.460322</td>\n",
       "      <td>0.434487</td>\n",
       "      <td>0.773798</td>\n",
       "      <td>0.756961</td>\n",
       "      <td>0.767652</td>\n",
       "      <td>0.619918</td>\n",
       "      <td>0.605226</td>\n",
       "      <td>0.734837</td>\n",
       "      <td>1.000000</td>\n",
       "    </tr>\n",
       "  </tbody>\n",
       "</table>\n",
       "<p>5 rows × 30 columns</p>\n",
       "</div>"
      ],
      "text/plain": [
       "                      Food      Beer     Smoke     Games     Books     Hshld  \\\n",
       "date    industry                                                               \n",
       "2018-12 Whlsl     0.474948  0.356983  0.122672  0.510425  0.803362  0.419280   \n",
       "        Rtail     0.517856  0.406107  0.030283  0.676464  0.636320  0.358336   \n",
       "        Meals     0.370187  0.385483  0.122007  0.301516  0.520649  0.308216   \n",
       "        Fin       0.298823  0.192706  0.027593  0.480276  0.694812  0.162690   \n",
       "        Other     0.436952  0.376565  0.224010  0.331829  0.558072  0.390610   \n",
       "\n",
       "                     Clths      Hlth     Chems     Txtls  ...     Telcm  \\\n",
       "date    industry                                          ...             \n",
       "2018-12 Whlsl     0.570071  0.739764  0.785796  0.634197  ...  0.648092   \n",
       "        Rtail     0.676598  0.714933  0.626034  0.634202  ...  0.562238   \n",
       "        Meals     0.302176  0.416193  0.520023  0.491726  ...  0.406184   \n",
       "        Fin       0.425899  0.658468  0.760151  0.577090  ...  0.420863   \n",
       "        Other     0.467099  0.645035  0.712511  0.520953  ...  0.607868   \n",
       "\n",
       "                     Servs     BusEq     Paper     Trans     Whlsl     Rtail  \\\n",
       "date    industry                                                               \n",
       "2018-12 Whlsl     0.567395  0.543362  0.764252  0.829185  1.000000  0.744842   \n",
       "        Rtail     0.762616  0.628246  0.656510  0.630615  0.744842  1.000000   \n",
       "        Meals     0.444629  0.399438  0.627113  0.663358  0.643879  0.616947   \n",
       "        Fin       0.585418  0.517947  0.670936  0.760730  0.746480  0.611883   \n",
       "        Other     0.460322  0.434487  0.773798  0.756961  0.767652  0.619918   \n",
       "\n",
       "                     Meals       Fin     Other  \n",
       "date    industry                                \n",
       "2018-12 Whlsl     0.643879  0.746480  0.767652  \n",
       "        Rtail     0.616947  0.611883  0.619918  \n",
       "        Meals     1.000000  0.502563  0.605226  \n",
       "        Fin       0.502563  1.000000  0.734837  \n",
       "        Other     0.605226  0.734837  1.000000  \n",
       "\n",
       "[5 rows x 30 columns]"
      ]
     },
     "execution_count": 24,
     "metadata": {},
     "output_type": "execute_result"
    }
   ],
   "source": [
    "ts_corr.index.names = ['date', 'industry']\n",
    "ts_corr.tail()"
   ]
  },
  {
   "cell_type": "markdown",
   "metadata": {},
   "source": [
    "To compute the rolling correlations, we need to group all the rows for the same date, and then compute the average across all the entries in the dataframe. \n",
    "\n",
    "We need to compute the mean of all the values of the dataframe, not the mean of each column. We could compute the means of the means, but it's simpler to just call our own function on the correlation matrix.\n",
    "\n",
    "Although we could construct a function to compute this, it's often easier to provide a `lambda` function which is a simple one-time-use function and therefore has no name. In every other way, it's a standard pandas function.\n",
    "\n",
    "We do so as follows:"
   ]
  },
  {
   "cell_type": "code",
   "execution_count": 25,
   "metadata": {},
   "outputs": [],
   "source": [
    "\n",
    "ind_tr36corr = ts_corr.groupby(level='date').apply(lambda cormat: cormat.values.mean())"
   ]
  },
  {
   "cell_type": "markdown",
   "metadata": {},
   "source": [
    "Now, we can plot the trailing 36 month returns against the average correlations in the trailing 36 months."
   ]
  },
  {
   "cell_type": "code",
   "execution_count": 26,
   "metadata": {},
   "outputs": [
    {
     "data": {
      "text/plain": [
       "<AxesSubplot:xlabel='date'>"
      ]
     },
     "execution_count": 26,
     "metadata": {},
     "output_type": "execute_result"
    },
    {
     "data": {
      "image/png": "[encoded data removed]",
      "text/plain": [
       "<Figure size 864x432 with 2 Axes>"
      ]
     },
     "metadata": {
      "needs_background": "light"
     },
     "output_type": "display_data"
    }
   ],
   "source": [
    "tmi_tr36rets.plot(secondary_y=True, legend=True, label=\"Tr 36 mo return\", figsize=(12,6))\n",
    "ind_tr36corr.plot(legend=True, label=\"Tr 36 mo Avg Correlation\")"
   ]
  },
  {
   "cell_type": "code",
   "execution_count": 27,
   "metadata": {},
   "outputs": [
    {
     "data": {
      "text/plain": [
       "-0.28010065062884026"
      ]
     },
     "execution_count": 27,
     "metadata": {},
     "output_type": "execute_result"
    }
   ],
   "source": [
    "tmi_tr36rets.corr(ind_tr36corr)"
   ]
  },
  {
   "cell_type": "markdown",
   "metadata": {},
   "source": [
    "Clearly, these two series are negatively correlated, which explains why diversification fails you when you need it most. When markets fall, correlations rise, making diversification much less valuable.\n",
    "\n",
    "Instead, we'll look at how to use Insurance to protect the downside."
   ]
  },
  {
   "cell_type": "code",
   "execution_count": null,
   "metadata": {},
   "outputs": [],
   "source": []
  }
 ],
 "metadata": {
  "kernelspec": {
   "display_name": "Python 3",
   "language": "python",
   "name": "python3"
  },
  "language_info": {
   "codemirror_mode": {
    "name": "ipython",
    "version": 3
   },
   "file_extension": ".py",
   "mimetype": "text/x-python",
   "name": "python",
   "nbconvert_exporter": "python",
   "pygments_lexer": "ipython3",
   "version": "3.10.6"
  },
  "vscode": {
   "interpreter": {
    "hash": "916dbcbb3f70747c44a77c7bcd40155683ae19c65e1c03b4aa3499c5328201f1"
   }
  }
 },
 "nbformat": 4,
 "nbformat_minor": 2
}
