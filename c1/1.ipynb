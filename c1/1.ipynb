{
 "cells": [
  {
   "cell_type": "code",
   "execution_count": 1,
   "metadata": {},
   "outputs": [
    {
     "name": "stdout",
     "output_type": "stream",
     "text": [
      "1.ipynb\n"
     ]
    }
   ],
   "source": [
    "!ls"
   ]
  },
  {
   "cell_type": "code",
   "execution_count": 9,
   "metadata": {},
   "outputs": [],
   "source": [
    "import datetime as dt\n",
    "import matplotlib.pyplot as plt\n",
    "from matplotlib import style\n",
    "import pandas as pd \n",
    "import pandas_datareader.data as web\n",
    "import yfinance as yf"
   ]
  },
  {
   "cell_type": "code",
   "execution_count": 29,
   "metadata": {},
   "outputs": [
    {
     "name": "stdout",
     "output_type": "stream",
     "text": [
      "[*********************100%***********************]  1 of 1 completed\n"
     ]
    }
   ],
   "source": [
    "style.use('ggplot')\n",
    "\n",
    "\n",
    "df=yf.download('TSLA',start='2017-03-03',end='2023-05-06')\n",
    "\n",
    "\n"
   ]
  },
  {
   "cell_type": "code",
   "execution_count": 30,
   "metadata": {},
   "outputs": [
    {
     "data": {
      "image/png": "[encoded data removed]",
      "text/plain": [
       "<Figure size 432x288 with 1 Axes>"
      ]
     },
     "metadata": {},
     "output_type": "display_data"
    }
   ],
   "source": [
    "df[['Adj Close','Close']].plot()\n",
    "plt.show()\n"
   ]
  },
  {
   "cell_type": "code",
   "execution_count": 38,
   "metadata": {},
   "outputs": [
    {
     "data": {
      "text/html": [
       "<div>\n",
       "<style scoped>\n",
       "    .dataframe tbody tr th:only-of-type {\n",
       "        vertical-align: middle;\n",
       "    }\n",
       "\n",
       "    .dataframe tbody tr th {\n",
       "        vertical-align: top;\n",
       "    }\n",
       "\n",
       "    .dataframe thead th {\n",
       "        text-align: right;\n",
       "    }\n",
       "</style>\n",
       "<table border=\"1\" class=\"dataframe\">\n",
       "  <thead>\n",
       "    <tr style=\"text-align: right;\">\n",
       "      <th></th>\n",
       "      <th>Open</th>\n",
       "      <th>High</th>\n",
       "      <th>Low</th>\n",
       "      <th>Close</th>\n",
       "      <th>Adj Close</th>\n",
       "      <th>Volume</th>\n",
       "      <th>100ma</th>\n",
       "    </tr>\n",
       "    <tr>\n",
       "      <th>Date</th>\n",
       "      <th></th>\n",
       "      <th></th>\n",
       "      <th></th>\n",
       "      <th></th>\n",
       "      <th></th>\n",
       "      <th></th>\n",
       "      <th></th>\n",
       "    </tr>\n",
       "  </thead>\n",
       "  <tbody>\n",
       "    <tr>\n",
       "      <th>2017-03-03 00:00:00-05:00</th>\n",
       "      <td>16.716000</td>\n",
       "      <td>16.793333</td>\n",
       "      <td>16.600000</td>\n",
       "      <td>16.771334</td>\n",
       "      <td>16.771334</td>\n",
       "      <td>43791000</td>\n",
       "      <td>NaN</td>\n",
       "    </tr>\n",
       "    <tr>\n",
       "      <th>2017-03-06 00:00:00-05:00</th>\n",
       "      <td>16.527332</td>\n",
       "      <td>16.780001</td>\n",
       "      <td>16.500668</td>\n",
       "      <td>16.747334</td>\n",
       "      <td>16.747334</td>\n",
       "      <td>50332500</td>\n",
       "      <td>NaN</td>\n",
       "    </tr>\n",
       "    <tr>\n",
       "      <th>2017-03-07 00:00:00-05:00</th>\n",
       "      <td>16.794666</td>\n",
       "      <td>16.926001</td>\n",
       "      <td>16.554667</td>\n",
       "      <td>16.572666</td>\n",
       "      <td>16.572666</td>\n",
       "      <td>51892500</td>\n",
       "      <td>NaN</td>\n",
       "    </tr>\n",
       "    <tr>\n",
       "      <th>2017-03-08 00:00:00-05:00</th>\n",
       "      <td>16.466667</td>\n",
       "      <td>16.671333</td>\n",
       "      <td>16.354668</td>\n",
       "      <td>16.458000</td>\n",
       "      <td>16.458000</td>\n",
       "      <td>55878000</td>\n",
       "      <td>16.637333</td>\n",
       "    </tr>\n",
       "    <tr>\n",
       "      <th>2017-03-09 00:00:00-05:00</th>\n",
       "      <td>16.508667</td>\n",
       "      <td>16.577333</td>\n",
       "      <td>16.200001</td>\n",
       "      <td>16.326668</td>\n",
       "      <td>16.326668</td>\n",
       "      <td>58189500</td>\n",
       "      <td>16.575200</td>\n",
       "    </tr>\n",
       "  </tbody>\n",
       "</table>\n",
       "</div>"
      ],
      "text/plain": [
       "                                Open       High  ...    Volume      100ma\n",
       "Date                                             ...                     \n",
       "2017-03-03 00:00:00-05:00  16.716000  16.793333  ...  43791000        NaN\n",
       "2017-03-06 00:00:00-05:00  16.527332  16.780001  ...  50332500        NaN\n",
       "2017-03-07 00:00:00-05:00  16.794666  16.926001  ...  51892500        NaN\n",
       "2017-03-08 00:00:00-05:00  16.466667  16.671333  ...  55878000  16.637333\n",
       "2017-03-09 00:00:00-05:00  16.508667  16.577333  ...  58189500  16.575200\n",
       "\n",
       "[5 rows x 7 columns]"
      ]
     },
     "execution_count": 38,
     "metadata": {},
     "output_type": "execute_result"
    }
   ],
   "source": [
    "\n",
    "df[\"100ma\"]=df['Adj Close'].rolling(window=100,min_periods=4).mean()\n",
    "df.head()"
   ]
  },
  {
   "cell_type": "code",
   "execution_count": null,
   "metadata": {},
   "outputs": [],
   "source": []
  }
 ],
 "metadata": {
  "kernelspec": {
   "display_name": "Python 3",
   "language": "python",
   "name": "python3"
  },
  "language_info": {
   "codemirror_mode": {
    "name": "ipython",
    "version": 3
   },
   "file_extension": ".py",
   "mimetype": "text/x-python",
   "name": "python",
   "nbconvert_exporter": "python",
   "pygments_lexer": "ipython3",
   "version": "3.10.6"
  },
  "orig_nbformat": 4,
  "vscode": {
   "interpreter": {
    "hash": "31f2aee4e71d21fbe5cf8b01ff0e069b9275f58929596ceb00d14d90e3e16cd6"
   }
  }
 },
 "nbformat": 4,
 "nbformat_minor": 2
}
